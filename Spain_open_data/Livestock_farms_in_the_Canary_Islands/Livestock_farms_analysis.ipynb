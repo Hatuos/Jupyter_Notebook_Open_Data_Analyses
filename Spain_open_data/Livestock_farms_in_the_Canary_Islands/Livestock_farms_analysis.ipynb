{
  "cells": [
    {
      "cell_type": "markdown",
      "metadata": {},
      "source": [
        "# **Table of contents**\n",
        "\n",
        "* [Used data](#used-data)\n",
        "\n",
        "* [Importing dependencies and loading data](#importing-dependencies-and-loading-data)\n",
        "    * [Dependencies](#import-dependencies)\n",
        "    * [Data upload](#data-upload---livestock-farms-registry-and-their-animals)\n",
        "    * [Export data to CSV](#exporting-our-final-database-to-csv-format)\n",
        "    * [Export data to JSON](#exporting-our-final-database-to-json-format)\n",
        "\n",
        "* [Data obtained from the dataset](#data-obtained-from-the-dataset)\n",
        "    * [Number of livestock farms per island](#number-of-livestock-farms-per-island)\n",
        "    * [Number of livestock farms per municipalities](#number-of-livestock-farms-per-municipalities)\n",
        "    * [Number of animals per livestock farm](#number-of-animals-per-livestock-farm)\n",
        "    * [Number of animals per island](#number-of-animals-per-island)\n",
        "    * [Number of animals per municipalities](#number-of-animals-per-municipalities)\n",
        "    * [List of animal types, their breed, and purpose by island](#list-of-animal-types-their-breed-and-purpose-by-island)\n",
        "    * [List of animal types, their breed, and purpose by municipalities](#list-of-animal-types-their-breed-and-purpose-by-municipalities)\n",
        "\n",
        "* [Geographic data obtained from the dataset](#geographic-data-obtained-from-the-dataset)\n",
        "\n",
        "    * [Locations of farms by animal species and island](#locations-of-farms-by-animal-species-and-island)\n",
        "    * [Locations of farms by animal species and municipality](#locations-of-farms-by-animal-species-and-municipality)\n",
        "    * [Locations of farms by animal species](#locations-of-farms-by-animal-species)\n",
        "    * [Locations of farms by animals type and island](#locations-of-farms-by-animals-type-and-island)\n",
        "    * [Locations of farms by animals type and municipality](#locations-of-farms-by-animals-type-and-municipality)\n",
        "    * [Locations of farms by animals type](#locations-of-farms-by-animals-type)\n",
        "    * [Locations of farms by animals breed and island](#locations-of-farms-by-animals-breed-and-island)\n",
        "    * [Locations of farms by animals breed and municipality](#locations-of-farms-by-animals-breed-and-municipality)\n",
        "    * [Locations of farms by animals breed](#locations-of-farms-by-animals-breed)\n",
        "---"
      ]
    },
    {
      "cell_type": "markdown",
      "metadata": {
        "id": "V4OKWYlWvm_p"
      },
      "source": [
        "# **Used data**\n",
        "\n",
        "- **Data source portal:** https://datos.canarias.es/portal/\n",
        "\n",
        "- **Livestock farms registry and their animals:** https://datos.canarias.es/catalogos/general/showcase/registro-de-explotaciones-ganaderas-de-canarias-regac\n",
        "\n",
        "---"
      ]
    },
    {
      "cell_type": "markdown",
      "metadata": {
        "id": "Dym0D_VNFWx1"
      },
      "source": [
        "# **Importing dependencies and loading data**"
      ]
    },
    {
      "cell_type": "markdown",
      "metadata": {},
      "source": [
        "##### Import dependencies"
      ]
    },
    {
      "cell_type": "code",
      "execution_count": null,
      "metadata": {
        "id": "kmelzw2cQAZI"
      },
      "outputs": [],
      "source": [
        "import io\n",
        "import os\n",
        "import requests\n",
        "import pandas as pd\n",
        "import matplotlib.pyplot as plt\n",
        "import folium"
      ]
    },
    {
      "cell_type": "markdown",
      "metadata": {
        "id": "Uw9z2m3Oi2m-"
      },
      "source": [
        "##### Data upload - Livestock farms registry and their animals"
      ]
    },
    {
      "cell_type": "code",
      "execution_count": null,
      "metadata": {
        "id": "jK8y-Td6NwOp"
      },
      "outputs": [],
      "source": [
        "livestockFarmsURL = \"https://datos.canarias.es/catalogos/general/dataset/d637f41d-2608-46c9-8560-4a42ee1f8bc1/resource/30cfd468-8cac-498d-b2d8-0c1f39703dfc/download/regac_explotaciones_202201.csv\"\n",
        "stringLivestockFarms = requests.get(livestockFarmsURL).content\n",
        "livestockFarmsDataset = pd.read_csv(io.StringIO(stringLivestockFarms.decode('utf-8')))\n",
        "\n",
        "animalsRegisteredURL = \"https://datos.canarias.es/catalogos/general/dataset/b10b779b-ea87-4638-b9a1-8bfede19c10b/resource/97dcfbd0-3ca2-4818-b1b8-dc95bc1ca46c/download/regac_censo_202201.csv\"\n",
        "stringAnimalsRegistered  = requests.get(animalsRegisteredURL).content\n",
        "animalsRegisteredDataset = pd.read_csv(io.StringIO(stringAnimalsRegistered.decode('utf-8')))"
      ]
    },
    {
      "cell_type": "markdown",
      "metadata": {
        "id": "02NJhdvxiwfJ"
      },
      "source": [
        "* Lists of municipalities on each Canary Island to facilitate subsequent work"
      ]
    },
    {
      "cell_type": "code",
      "execution_count": null,
      "metadata": {
        "id": "VkiYKj_9I35j"
      },
      "outputs": [],
      "source": [
        "TenerifeMunicipalities = [\n",
        "  \"Adeje\", \"Arafo\", \"Arico\", \"Arona\", \"Buenavista del Norte\", \"Candelaria\", \"Fasnia\", \"Garachico\", \"Granadilla de Abona\", \"La Guancha\", \"Guía de Isora\", \n",
        "  \"Güímar\", \"Icod de los Vinos\", \"La Matanza de Acentejo\", \"La Orotava\", \"Puerto de la Cruz\", \"Los Realejos\", \"El Rosario\", \"San Cristóbal de La Laguna\", \n",
        "  \"San Juan de la Rambla\", \"San Miguel de Abona\", \"Santa Cruz de Tenerife\", \"Santa Úrsula\", \"Santiago del Teide\", \"El Sauzal\", \"Los Silos\", \"Tacoronte\", \n",
        "  \"El Tanque\", \"Tegueste\", \"La Victoria de Acentejo\" , \"Vilaflor de Chasna\"\n",
        "]\n",
        "GranCanariaMunicipalities = [\n",
        "  \"Agaete\", \"Agüimes\", \"La Aldea de San Nicolás\", \"Artenara\", \"Arucas\", \"Firgas\", \"Gáldar\", \"Ingenio\", \"Mogán\", \"Moya\", \"Las Palmas de Gran Canaria\", \n",
        "  \"San Bartolomé de Tirajana\", \"Santa Brígida\", \"Santa Lucía de Tirajana\", \"Santa María de Guía de Gran Canaria\", \"Tejeda\", \"Telde\", \"Teror\", \"Valleseco\", \n",
        "  \"Valsequillo de Gran Canaria\", \"Vega de San Mateo\"\n",
        "]\n",
        "GomeraMunicipalities = [\n",
        "  \"Agulo\", \"Alajeró\", \"Hermigua\", \"San Sebastián de La Gomera\", \"Valle Gran Rey\", \"Vallehermoso\"\n",
        "]\n",
        "ElHierroMunicipalities = [\n",
        "  \"Frontera\", \"El Pinar de El Hierro\", \"Valverde\"\n",
        "]\n",
        "FuerteventuraMunicipalities = [\n",
        "  \"Antigua\", \"Betancuria\", \"La Oliva\", \"Pájara\", \"Puerto del Rosario\", \"Tuineje\"\n",
        "]\n",
        "LanzaroteMunicipalities = [\n",
        "  \"Arrecife\", \"Haría\", \"San Bartolomé\", \"Teguise\", \"Tías\", \"Tinajo\",  \"Yaiza\"\n",
        "]\n",
        "LaPalmaMunicipalities = [\n",
        "  \"Barlovento\", \"Breña Alta\", \"Breña Baja\", \"Fuencaliente de La Palma\", \"Garafía\", \"Los Llanos de Aridane\", \"El Paso\", \"Puntagorda\", \n",
        "  \"Puntallana\", \"San Andrés y Sauces\", \"Santa Cruz de La Palma\", \"Tazacorte\", \"Tijarafe\",  \"Villa de Mazo\"\n",
        "]\n",
        "\n",
        "island = []\n",
        "\n",
        "def checkIsland ():\n",
        "\n",
        " for index, row in livestockFarmsDataset.iterrows():\n",
        "   if row['municipio_nombre'] in TenerifeMunicipalities: island.append('Tenerife')\n",
        "   elif row['municipio_nombre'] in GranCanariaMunicipalities: island.append('Gran Canaria')\n",
        "   elif row['municipio_nombre'] in GomeraMunicipalities: island.append('La Gomera')\n",
        "   elif row['municipio_nombre'] in ElHierroMunicipalities: island.append('El Hierro')\n",
        "   elif row['municipio_nombre'] in FuerteventuraMunicipalities: island.append('Fuerteventura')\n",
        "   elif row['municipio_nombre'] in LanzaroteMunicipalities: island.append('Lanzarote')\n",
        "   elif row['municipio_nombre'] in LaPalmaMunicipalities: island.append('La Palma')\n",
        "   else: island.append('Null')\n",
        "\n",
        " return island"
      ]
    },
    {
      "cell_type": "markdown",
      "metadata": {
        "id": "j68nBIs_2G5q"
      },
      "source": [
        "* We call the method created earlier to get a table of farms along with the island they belong to."
      ]
    },
    {
      "cell_type": "code",
      "execution_count": null,
      "metadata": {
        "id": "6y4O4HNNSiHr"
      },
      "outputs": [],
      "source": [
        "islandsList = checkIsland()\n",
        "livestockFarmsDataset['isla'] = island"
      ]
    },
    {
      "cell_type": "markdown",
      "metadata": {
        "id": "uN5n4MpmaNq7"
      },
      "source": [
        "* We merged the two initial datasets based on their common attribute, their identification number."
      ]
    },
    {
      "cell_type": "code",
      "execution_count": null,
      "metadata": {
        "colab": {
          "base_uri": "https://localhost:8080/"
        },
        "id": "kGyDNWNrVzrm",
        "outputId": "1ee73321-f4cd-4e91-c2c7-2cef4bcd3b9f"
      },
      "outputs": [],
      "source": [
        "finalDataset = livestockFarmsDataset.merge(animalsRegisteredDataset, on='explotacion_id').sort_values(by=['isla', 'municipio_id', 'especie_nombre', 'explotacion_id', 'raza_nombre', 'tipo_animal_ganado_nombre'])\n",
        "finalDataset = finalDataset.drop(columns=['especie_id', 'raza_id', 'tipo_animal_ganado_id'])\n",
        "\n",
        "# Dataset animal species, along with their breed and purpose\n",
        "datasetAnimalSpecies = finalDataset[['especie_nombre', 'raza_nombre', 'tipo_animal_ganado_nombre']].drop_duplicates().sort_values(by=['especie_nombre', 'raza_nombre', 'tipo_animal_ganado_nombre'])"
      ]
    },
    {
      "cell_type": "markdown",
      "metadata": {
        "id": "2KBjZoXeIT1b"
      },
      "source": [
        "#### Exporting our final dataset to CSV format"
      ]
    },
    {
      "cell_type": "code",
      "execution_count": null,
      "metadata": {
        "id": "jdS9qxbfGmaJ"
      },
      "outputs": [],
      "source": [
        "livestockFarmsDirectoryPath = os.path.join('results', \"livestockFarmsDataset.csv\")\n",
        "datasetAnimalSpeciesDirectoryPath = os.path.join('results', \"animalSpeciesDataset.csv\")\n",
        "\n",
        "finalDataset.to_csv(livestockFarmsDirectoryPath, sep=';', index=False, encoding='utf-8-sig')\n",
        "datasetAnimalSpecies.to_csv(datasetAnimalSpeciesDirectoryPath, sep=';', index=False, encoding='utf-8-sig')    "
      ]
    },
    {
      "cell_type": "markdown",
      "metadata": {
        "id": "MZLBrvGCGlSg"
      },
      "source": [
        "#### Exporting our final dataset to JSON format"
      ]
    },
    {
      "cell_type": "code",
      "execution_count": null,
      "metadata": {
        "id": "MNB_f8zSGg4V"
      },
      "outputs": [],
      "source": [
        "livestockFarmsDirectoryPath = os.path.join('results', \"livestockFarmsDataset.json\")\n",
        "datasetAnimalSpeciesDirectoryPath = os.path.join('results', \"animalSpeciesDataset.json\")\n",
        "\n",
        "finalDataset.to_json(livestockFarmsDirectoryPath, force_ascii=False, orient='records', indent=4)\n",
        "datasetAnimalSpecies.to_json(datasetAnimalSpeciesDirectoryPath, force_ascii=False, orient='records', indent=4)"
      ]
    },
    {
      "cell_type": "markdown",
      "metadata": {
        "id": "uYN7lIS8q2RS"
      },
      "source": [
        "---"
      ]
    },
    {
      "cell_type": "markdown",
      "metadata": {},
      "source": [
        "# Data obtained from the dataset"
      ]
    },
    {
      "cell_type": "markdown",
      "metadata": {
        "id": "HKar4OmJVUr9"
      },
      "source": [
        "#### Number of livestock farms per island"
      ]
    },
    {
      "cell_type": "code",
      "execution_count": null,
      "metadata": {
        "id": "CxEgn9W3plbL"
      },
      "outputs": [],
      "source": [
        "livestockFarmsPerIsland = finalDataset.groupby(['isla']).size().sort_values(ascending=False).reset_index().rename(columns={0:'Number of livestock farms'})\n",
        "display(livestockFarmsPerIsland)\n",
        "print(\"\\nTotal number of livestock farms in the Canary Islands: \", livestockFarmsPerIsland['Number of livestock farms'].sum(), end = \" \" )\n",
        "\n",
        "livestockFarmsPerIsland.plot(kind='pie', y = 'Number of livestock farms', autopct='%1.1f%%',\n",
        "startangle=90, shadow=False, labels=livestockFarmsPerIsland['isla'], legend = False, fontsize=9,figsize=(7,78))\n",
        "plt.show()\n",
        "\n",
        "livestockFarmsPerIslandDirectoryPath = os.path.join('results', \"livestockFarmsPerIsland.csv\")\n",
        "livestockFarmsPerIsland.to_csv(livestockFarmsPerIslandDirectoryPath, sep=';', index=False, encoding='utf-8-sig')"
      ]
    },
    {
      "cell_type": "markdown",
      "metadata": {
        "id": "y-BvoQUywQRb"
      },
      "source": [
        "#### Number of livestock farms per municipalities"
      ]
    },
    {
      "cell_type": "code",
      "execution_count": null,
      "metadata": {
        "id": "pSHcUcsEvgK8"
      },
      "outputs": [],
      "source": [
        "livestockFarmsPerMunicipalities = finalDataset.groupby(['isla', 'municipio_nombre',]).size().sort_values(ascending=False).reset_index().rename(columns={0:'Number of livestock farms'})\n",
        "display(livestockFarmsPerMunicipalities)\n",
        "print(\"\\nTotal number of livestock farms in the Canary Islands: \", livestockFarmsPerMunicipalities['Number of livestock farms'].sum(), end = \" \" )\n",
        "\n",
        "livestockFarmsPerMunicipalitiesDirectoryPath = os.path.join('results', \"livestockFarmsPerMunicipalities.csv\")\n",
        "livestockFarmsPerMunicipalities.to_csv(livestockFarmsPerMunicipalitiesDirectoryPath, sep=';', index=False, encoding='utf-8-sig')"
      ]
    },
    {
      "cell_type": "markdown",
      "metadata": {
        "id": "MZY80OhLOwb9"
      },
      "source": [
        "#### Number of animals per livestock farm"
      ]
    },
    {
      "cell_type": "code",
      "execution_count": null,
      "metadata": {
        "id": "qY3YVOyjLQaT"
      },
      "outputs": [],
      "source": [
        "animalsPerLivestockFarm = finalDataset.groupby(['explotacion_id', 'isla', 'municipio_nombre'])['censo'].sum().sort_values(ascending=False).reset_index()\n",
        "display(animalsPerLivestockFarm)\n",
        "print(\"\\nTotal number of animals registered in the Canary Islands: \", animalsPerLivestockFarm['censo'].sum(), end = \" \" )"
      ]
    },
    {
      "cell_type": "markdown",
      "metadata": {
        "id": "iTuezyykVPYr"
      },
      "source": [
        "#### Number of animals per island"
      ]
    },
    {
      "cell_type": "code",
      "execution_count": null,
      "metadata": {
        "id": "NVYANmdRPYJO"
      },
      "outputs": [],
      "source": [
        "animalsPerIsland = finalDataset.groupby('isla')['censo'].sum().sort_values(ascending=False).reset_index()\n",
        "display(animalsPerIsland)\n",
        "print(\"\\nTotal number of animals registered in the Canary Islands: \", animalsPerIsland['censo'].sum(), end = \" \" )\n",
        "\n",
        "animalsPerIslandDirectoryPath = os.path.join('results', \"animalsPerIsland.csv\")\n",
        "animalsPerIsland.to_csv(animalsPerIslandDirectoryPath, sep=';', index=False, encoding='utf-8-sig')"
      ]
    },
    {
      "cell_type": "markdown",
      "metadata": {
        "id": "BihosIR77zXp"
      },
      "source": [
        "#### Number of animals per municipalities"
      ]
    },
    {
      "cell_type": "code",
      "execution_count": null,
      "metadata": {
        "id": "43z7HxFR72Mx"
      },
      "outputs": [],
      "source": [
        "animalsPerMunicipalities = finalDataset.groupby(['isla', 'municipio_nombre', ])['censo'].sum().sort_values(ascending=False).reset_index()\n",
        "display(animalsPerMunicipalities)\n",
        "print(\"\\nTotal number of animals registered in the Canary Islands: \", animalsPerMunicipalities['censo'].sum(), end = \" \" )\n",
        "\n",
        "animalsPerMunicipalitiesDirectoryPath = os.path.join('results', \"animalsPerMunicipalities.csv\")\n",
        "animalsPerMunicipalities.to_csv(animalsPerMunicipalitiesDirectoryPath, sep=';', index=False, encoding='utf-8-sig')"
      ]
    },
    {
      "cell_type": "markdown",
      "metadata": {
        "id": "GM4-zwblzZA3"
      },
      "source": [
        "#### List of animal types, their breed, and purpose by island"
      ]
    },
    {
      "cell_type": "code",
      "execution_count": null,
      "metadata": {
        "id": "d7Bz2Az9ztpk"
      },
      "outputs": [],
      "source": [
        "animalsTypePerIsland = finalDataset.groupby(['isla', 'especie_nombre', 'raza_nombre', 'tipo_animal_ganado_nombre'])['censo'].sum().reset_index()\n",
        "\n",
        "# Obtain specific data about an island\n",
        "#islandName ='Fuerteventura'\n",
        "#islandAnimalsType = animalsTypePerIsland.loc[animalsTypePerIsland['isla'] == islandName]\n",
        "#islandAnimalsType = islandAnimalsType.sort_values(by=['isla', 'censo', 'especie_nombre', 'raza_nombre', 'tipo_animal_ganado_nombre'], ascending=False)\n",
        "\n",
        "# Obtain data from all of the Canary Islands\n",
        "islandAnimalsType = animalsTypePerIsland.sort_values(by=['isla', 'censo', 'especie_nombre', 'raza_nombre', 'tipo_animal_ganado_nombre'], ascending=False)\n",
        "\n",
        "display(islandAnimalsType)\n",
        "\n",
        "islandAnimalsTypeDirectoryPath = os.path.join('results', \"animalsTypePerIsland.csv\")\n",
        "islandAnimalsType.to_csv(islandAnimalsTypeDirectoryPath, sep=';', index=False, encoding='utf-8-sig')"
      ]
    },
    {
      "cell_type": "markdown",
      "metadata": {
        "id": "VTx49ilT7DPc"
      },
      "source": [
        "#### List of animal types, their breed, and purpose by municipalities"
      ]
    },
    {
      "cell_type": "code",
      "execution_count": null,
      "metadata": {
        "id": "K9YBY0rZ7JDa"
      },
      "outputs": [],
      "source": [
        "animalsTypePerMunicipalities = finalDataset.groupby(['isla', 'municipio_nombre', 'especie_nombre', 'raza_nombre', 'tipo_animal_ganado_nombre'])['censo'].sum().reset_index()\n",
        "\n",
        "# Obtain specific data about an municipality\n",
        "#municipality ='Agulo'\n",
        "#municipalitiesAnimalsType = animalsTypePerMunicipalities.loc[animalsTypePerMunicipalities['municipio_nombre'] == municipality]\n",
        "#municipalitiesAnimalsType = municipalitiesAnimalsType.sort_values(by=['isla', 'censo', 'municipio_nombre', 'especie_nombre', 'raza_nombre', 'tipo_animal_ganado_nombre'], ascending=False)\n",
        "\n",
        "# Obtain data from all of the municipalities\n",
        "municipalitiesAnimalsType = animalsTypePerMunicipalities.sort_values(by=['isla', 'censo', 'municipio_nombre', 'especie_nombre', 'raza_nombre', 'tipo_animal_ganado_nombre'], ascending=False)\n",
        "\n",
        "display(municipalitiesAnimalsType)\n",
        "\n",
        "municipalitiesAnimalsTypeDirectoryPath = os.path.join('results', \"animalsTypePerMunicipalities.csv\")\n",
        "municipalitiesAnimalsType.to_csv(municipalitiesAnimalsTypeDirectoryPath, sep=';', index=False, encoding='utf-8-sig')"
      ]
    },
    {
      "cell_type": "markdown",
      "metadata": {},
      "source": [
        "---"
      ]
    },
    {
      "cell_type": "markdown",
      "metadata": {
        "id": "WF-nyWDu_HRp"
      },
      "source": [
        "# Geographic data obtained from the dataset"
      ]
    },
    {
      "cell_type": "markdown",
      "metadata": {
        "id": "ob6SITDNALUq"
      },
      "source": [
        "#### Locations of farms by animal species and island"
      ]
    },
    {
      "cell_type": "code",
      "execution_count": null,
      "metadata": {
        "id": "6JIUo1Zm_mqq"
      },
      "outputs": [],
      "source": [
        "canaryIslandsCoordinates = [float(28.087749686092238), float(-15.78147406169936)]\n",
        "map = folium.Map(canaryIslandsCoordinates, zoom_start = 8, min_zoom=8,max_zoom=18)\n",
        "\n",
        "selectedFarms = finalDataset.loc[(finalDataset['isla'] == 'Tenerife') & (finalDataset['especie_nombre'] == 'Dorada (Sparus aurata)') ]\n",
        "\n",
        "for i in range(0, len(selectedFarms)):\n",
        "  folium.Marker([float(selectedFarms.iloc[i]['latitud']), float(selectedFarms.iloc[i]['longitud'])],\n",
        "                popup = selectedFarms.iloc[i]['explotacion_id']).add_to(map),\n",
        "\n",
        "map"
      ]
    },
    {
      "cell_type": "markdown",
      "metadata": {
        "id": "XqCE-egkixRs"
      },
      "source": [
        "#### Locations of farms by animal species and municipality"
      ]
    },
    {
      "cell_type": "code",
      "execution_count": null,
      "metadata": {
        "id": "qFJyHjiQixbL"
      },
      "outputs": [],
      "source": [
        "canaryIslandsCoordinates =  [float(28.087749686092238), float(-15.78147406169936)]\n",
        "map = folium.Map(canaryIslandsCoordinates, zoom_start = 8, min_zoom=8,max_zoom=18)\n",
        "\n",
        "selectedFarms = finalDataset.loc[(finalDataset['municipio_nombre'] == 'Candelaria') & (finalDataset['especie_nombre'] == 'Caprinos') ]\n",
        "\n",
        "for i in range(0, len(selectedFarms)):\n",
        "  folium.Marker([float(selectedFarms.iloc[i]['latitud']), float(selectedFarms.iloc[i]['longitud'])],\n",
        "                popup = selectedFarms.iloc[i]['explotacion_id']).add_to(map),\n",
        "\n",
        "map"
      ]
    },
    {
      "cell_type": "markdown",
      "metadata": {
        "id": "_LWkpav2lGuJ"
      },
      "source": [
        "#### Locations of farms by animal species"
      ]
    },
    {
      "cell_type": "code",
      "execution_count": null,
      "metadata": {
        "id": "UPl1HN2slG8c"
      },
      "outputs": [],
      "source": [
        "canaryIslandsCoordinates =  [float(28.087749686092238), float(-15.78147406169936)]\n",
        "map = folium.Map(canaryIslandsCoordinates, zoom_start = 8, min_zoom=8,max_zoom=18)\n",
        "\n",
        "selectedFarms = finalDataset.loc[(finalDataset['especie_nombre'] == 'Dorada (Sparus aurata)')]\n",
        "\n",
        "for i in range(0, len(selectedFarms)):\n",
        "  folium.Marker([float(selectedFarms.iloc[i]['latitud']), float(selectedFarms.iloc[i]['longitud'])],\n",
        "                popup = selectedFarms.iloc[i]['explotacion_id']).add_to(map),\n",
        "\n",
        "map"
      ]
    },
    {
      "cell_type": "markdown",
      "metadata": {
        "id": "oTuJQmxUiahk"
      },
      "source": [
        "#### Locations of farms by animals type and island"
      ]
    },
    {
      "cell_type": "code",
      "execution_count": null,
      "metadata": {
        "id": "3V-6ey23ian9"
      },
      "outputs": [],
      "source": [
        "canaryIslandsCoordinates =  [float(28.087749686092238), float(-15.78147406169936)]\n",
        "map = folium.Map(canaryIslandsCoordinates, zoom_start = 8, min_zoom=8,max_zoom=18)\n",
        "\n",
        "selectedFarms = finalDataset.loc[(finalDataset['isla'] == 'Gran Canaria') & (finalDataset['tipo_animal_ganado_nombre'] == 'Granjas de cría para carne') ]\n",
        "\n",
        "for i in range(0, len(selectedFarms)):\n",
        "  folium.Marker([float(selectedFarms.iloc[i]['latitud']), float(selectedFarms.iloc[i]['longitud'])],\n",
        "                popup = selectedFarms.iloc[i]['explotacion_id']).add_to(map),\n",
        "\n",
        "map"
      ]
    },
    {
      "cell_type": "markdown",
      "metadata": {
        "id": "PBPICLVLj_qm"
      },
      "source": [
        "#### Locations of farms by animals type and municipality"
      ]
    },
    {
      "cell_type": "code",
      "execution_count": null,
      "metadata": {
        "id": "coyvPlHSj_xs"
      },
      "outputs": [],
      "source": [
        "canaryIslandsCoordinates =  [float(28.087749686092238), float(-15.78147406169936)]\n",
        "map = folium.Map(canaryIslandsCoordinates, zoom_start = 8, min_zoom=8,max_zoom=18)\n",
        "\n",
        "selectedFarms = finalDataset.loc[(finalDataset['municipio_nombre'] == 'Candelaria') & (finalDataset['tipo_animal_ganado_nombre'] == 'Cebo') ]\n",
        "\n",
        "for i in range(0, len(selectedFarms)):\n",
        "  folium.Marker([float(selectedFarms.iloc[i]['latitud']), float(selectedFarms.iloc[i]['longitud'])],\n",
        "                popup = selectedFarms.iloc[i]['explotacion_id']).add_to(map),\n",
        "\n",
        "map"
      ]
    },
    {
      "cell_type": "markdown",
      "metadata": {
        "id": "UuxzyQb-lg1D"
      },
      "source": [
        "#### Locations of farms by animals type"
      ]
    },
    {
      "cell_type": "code",
      "execution_count": null,
      "metadata": {
        "id": "j2q_D3Ahlg7M"
      },
      "outputs": [],
      "source": [
        "canaryIslandsCoordinates =  [float(28.087749686092238), float(-15.78147406169936)]\n",
        "map = folium.Map(canaryIslandsCoordinates, zoom_start = 8, min_zoom=8,max_zoom=18)\n",
        "\n",
        "selectedFarms = finalDataset.loc[(finalDataset['tipo_animal_ganado_nombre'] == 'Cebo')]\n",
        "\n",
        "for i in range(0, len(selectedFarms)):\n",
        "  folium.Marker([float(selectedFarms.iloc[i]['latitud']), float(selectedFarms.iloc[i]['longitud'])],\n",
        "                popup = selectedFarms.iloc[i]['explotacion_id']).add_to(map),\n",
        "\n",
        "map"
      ]
    },
    {
      "cell_type": "markdown",
      "metadata": {
        "id": "ev-6xCZmiOQD"
      },
      "source": [
        "#### Locations of farms by animals' breed and island"
      ]
    },
    {
      "cell_type": "code",
      "execution_count": null,
      "metadata": {
        "colab": {
          "base_uri": "https://localhost:8080/",
          "height": 547
        },
        "id": "3mFgFIJ9iN6N",
        "outputId": "0a2bcbbe-bea7-45ca-eea2-9a1df61ee09b"
      },
      "outputs": [],
      "source": [
        "canaryIslandsCoordinates =  [float(28.087749686092238), float(-15.78147406169936)]\n",
        "map = folium.Map(canaryIslandsCoordinates, zoom_start = 8, min_zoom=8,max_zoom=18)\n",
        "\n",
        "selectedFarms = finalDataset.loc[(finalDataset['isla'] == 'Tenerife') & (finalDataset['raza_nombre'] == 'Mestizo') ]\n",
        "\n",
        "for i in range(0, len(selectedFarms)):\n",
        "  folium.Marker([float(selectedFarms.iloc[i]['latitud']), float(selectedFarms.iloc[i]['longitud'])],\n",
        "                popup = selectedFarms.iloc[i]['explotacion_id']).add_to(map),\n",
        "\n",
        "map"
      ]
    },
    {
      "cell_type": "markdown",
      "metadata": {
        "id": "ohbJtPHcknFR"
      },
      "source": [
        "####  Locations of farms by animals' breed and municipality"
      ]
    },
    {
      "cell_type": "code",
      "execution_count": null,
      "metadata": {
        "id": "9qZsrczvknM_"
      },
      "outputs": [],
      "source": [
        "canaryIslandsCoordinates =  [float(28.087749686092238), float(-15.78147406169936)]\n",
        "map = folium.Map(canaryIslandsCoordinates, zoom_start = 8, min_zoom=8,max_zoom=18)\n",
        "\n",
        "selectedFarms = finalDataset.loc[(finalDataset['municipio_nombre'] == 'Candelaria') & (finalDataset['raza_nombre'] == 'Mestizo') ]\n",
        "\n",
        "for i in range(0, len(selectedFarms)):\n",
        "  folium.Marker([float(selectedFarms.iloc[i]['latitud']), float(selectedFarms.iloc[i]['longitud'])],\n",
        "                popup = selectedFarms.iloc[i]['explotacion_id']).add_to(map),\n",
        "\n",
        "map"
      ]
    },
    {
      "cell_type": "markdown",
      "metadata": {
        "id": "6AbrOpgtlsXL"
      },
      "source": [
        "####  Locations of farms by animals' breed"
      ]
    },
    {
      "cell_type": "code",
      "execution_count": null,
      "metadata": {
        "id": "NP17-G1glsdK"
      },
      "outputs": [],
      "source": [
        "canaryIslandsCoordinates =  [float(28.087749686092238), float(-15.78147406169936)]\n",
        "map = folium.Map(canaryIslandsCoordinates, zoom_start = 8, min_zoom=8,max_zoom=18)\n",
        "\n",
        "selectedFarms = finalDataset.loc[(finalDataset['raza_nombre'] == 'Mestiza')]\n",
        "\n",
        "for i in range(0, len(selectedFarms)):\n",
        "  folium.Marker([float(selectedFarms.iloc[i]['latitud']), float(selectedFarms.iloc[i]['longitud'])],\n",
        "                popup = selectedFarms.iloc[i]['explotacion_id']).add_to(map),\n",
        "\n",
        "map"
      ]
    }
  ],
  "metadata": {
    "colab": {
      "provenance": []
    },
    "kernelspec": {
      "display_name": ".venv",
      "language": "python",
      "name": "python3"
    },
    "language_info": {
      "codemirror_mode": {
        "name": "ipython",
        "version": 3
      },
      "file_extension": ".py",
      "mimetype": "text/x-python",
      "name": "python",
      "nbconvert_exporter": "python",
      "pygments_lexer": "ipython3",
      "version": "3.12.3"
    }
  },
  "nbformat": 4,
  "nbformat_minor": 0
}
